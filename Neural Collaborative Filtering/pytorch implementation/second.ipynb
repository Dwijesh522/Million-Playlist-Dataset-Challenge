{
 "cells": [
  {
   "cell_type": "markdown",
   "metadata": {},
   "source": [
    "## second.ipynb is for recommending artists (not tracks)"
   ]
  },
  {
   "cell_type": "code",
   "execution_count": 1,
   "metadata": {},
   "outputs": [
    {
     "data": {
      "text/plain": [
       "device(type='cuda')"
      ]
     },
     "execution_count": 1,
     "metadata": {},
     "output_type": "execute_result"
    }
   ],
   "source": [
    "import pandas as pd\n",
    "import os\n",
    "import numpy as np\n",
    "import torch\n",
    "import torch.nn as nn\n",
    "import json\n",
    "from tqdm import tqdm\n",
    "\n",
    "device = torch.device('cuda' if torch.cuda.is_available() else 'cpu')\n",
    "device"
   ]
  },
  {
   "cell_type": "code",
   "execution_count": 18,
   "metadata": {},
   "outputs": [
    {
     "name": "stderr",
     "output_type": "stream",
     "text": [
      "100%|███████████████████████████████████████████████████████████████████████████| 1000/1000 [00:00<00:00, 10921.10it/s]\n"
     ]
    }
   ],
   "source": [
    "def create_u_data(slice_path):\n",
    "    path = (slice_path)\n",
    "    f = open(path)\n",
    "    data = json.load(f)\n",
    "    \n",
    "    res = [] # [userid, trackid]\n",
    "    for i in tqdm(data['playlists']):\n",
    "        playlist_name = i['name']\n",
    "        for j in i['tracks']:\n",
    "            res.append([playlist_name, j['track_name'], 1])\n",
    "    df = pd.DataFrame(res, columns=['p_name', 't_name', 'rating'])\n",
    "    df['t_name'] = df['t_name'].astype('string')\n",
    "    df['t_name'] = pd.Categorical(df['t_name'])\n",
    "    df['p_name'] = df['p_name'].astype('string')\n",
    "    df['p_name'] = pd.Categorical(df['p_name'])\n",
    "    df['rating'] = df['rating'].astype('int32')\n",
    "\n",
    "    df['p_num'] = df.p_name.cat.codes\n",
    "    df['t_num'] = df.t_name.cat.codes\n",
    "    df['timestamp'] = 1234\n",
    "\n",
    "    del df['p_name']\n",
    "    del df['t_name']\n",
    "    df.reset_index()\n",
    "    df = df[['p_num', 't_num', 'rating', 'timestamp']]\n",
    "    df.to_csv('./Data/u.data', index=False)\n",
    "\n",
    "create_u_data('./Data/mpd.slice.0-999.json')"
   ]
  },
  {
   "cell_type": "markdown",
   "metadata": {},
   "source": [
    "## Test Train split"
   ]
  },
  {
   "cell_type": "code",
   "execution_count": 20,
   "metadata": {},
   "outputs": [
    {
     "name": "stdout",
     "output_type": "stream",
     "text": [
      "Size of the entire dataset:(67503, 4)\n",
      "Saving df to path: ./spotify.train.rating\n",
      "Columns in df are: ['p_num', 't_num', 'rating', 'timestamp']\n"
     ]
    },
    {
     "name": "stderr",
     "output_type": "stream",
     "text": [
      "<ipython-input-20-f2202f80b1a8>:31: SettingWithCopyWarning: \n",
      "A value is trying to be set on a copy of a slice from a DataFrame\n",
      "\n",
      "See the caveats in the documentation: https://pandas.pydata.org/pandas-docs/stable/user_guide/indexing.html#returning-a-view-versus-a-copy\n",
      "  train_df.sort_values(by=[\"p_num\", 'timestamp'], inplace = True)\n",
      "<ipython-input-20-f2202f80b1a8>:32: SettingWithCopyWarning: \n",
      "A value is trying to be set on a copy of a slice from a DataFrame\n",
      "\n",
      "See the caveats in the documentation: https://pandas.pydata.org/pandas-docs/stable/user_guide/indexing.html#returning-a-view-versus-a-copy\n",
      "  test_df.sort_values(by=[\"p_num\", 'timestamp'], inplace = True)\n"
     ]
    },
    {
     "name": "stdout",
     "output_type": "stream",
     "text": [
      "Saving df to path: ./spotify.test.rating\n",
      "Columns in df are: ['p_num', 't_num', 'rating', 'timestamp']\n",
      "Total No. of Records = 67503.0\n",
      "Train size = 66634, Test size = 869\n",
      "Train % = 0.9871264980815667, Test % =0.012873501918433256\n"
     ]
    }
   ],
   "source": [
    "import pandas as pd\n",
    "import numpy as np\n",
    "\n",
    "INPUT_PATH = './Data/u.data'\n",
    "OUTPUT_PATH_TRAIN = './Data/spotify.train.rating'\n",
    "OUTPUT_PATH_TEST = './Data/spotify.test.rating'\n",
    "USER_FIELD = 'p_num'\n",
    "\n",
    "def save_to_csv(df,path, header = False, index = False, sep = '\\t', verbose = False):\n",
    "    if verbose:\n",
    "        print(\"Saving df to path: {}\".format(path))\n",
    "        print(\"Columns in df are: {}\".format(df.columns.tolist()))\n",
    "\n",
    "    df.to_csv(path, header = header, index = index, sep = sep)\n",
    "\n",
    "def get_train_test_df(transactions):\n",
    "    '''\n",
    "    return train and test dataframe, with leave the latest one out strategy\n",
    "    Args:\n",
    "        transactions: the entire df of user/item transactions\n",
    "    '''\n",
    "\n",
    "    print(\"Size of the entire dataset:{}\".format(transactions.shape))\n",
    "    transactions.sort_values(by = ['timestamp'], inplace = True)\n",
    "    last_transaction_mask = transactions.duplicated(subset = {USER_FIELD}, keep = \"last\")\n",
    "    # The last transaction mask has all the latest items of people\n",
    "    # We want for the test dataset, items marked with a False\n",
    "    train_df = transactions[last_transaction_mask]\n",
    "    test_df = transactions[~last_transaction_mask]\n",
    "    \n",
    "    train_df.sort_values(by=[\"p_num\", 'timestamp'], inplace = True)\n",
    "    test_df.sort_values(by=[\"p_num\", 'timestamp'], inplace = True)\n",
    "    return train_df, test_df\n",
    "\n",
    "def report_stats(transactions, train_df, test_df):\n",
    "    whole_size = transactions.shape[0]*1.0\n",
    "    train_size = train_df.shape[0]\n",
    "    test_size = test_df.shape[0]\n",
    "    print(\"Total No. of Records = {}\".format(whole_size))\n",
    "    print(\"Train size = {}, Test size = {}\".format(train_size, test_size))\n",
    "    print(\"Train % = {}, Test % ={}\".format(train_size/whole_size, test_size/whole_size))\n",
    "\n",
    "transactions = pd.read_csv(INPUT_PATH)\n",
    "# make the dataset\n",
    "train_df, test_df = get_train_test_df(transactions)\n",
    "save_to_csv(train_df, OUTPUT_PATH_TRAIN, header = False,index = False, verbose = 1)\n",
    "save_to_csv(test_df, OUTPUT_PATH_TEST,header = False,index = False, verbose = 1)\n",
    "report_stats(transactions, train_df, test_df)"
   ]
  },
  {
   "cell_type": "code",
   "execution_count": 23,
   "metadata": {},
   "outputs": [],
   "source": [
    "# PyTorch imports\n",
    "import torch\n",
    "import torch.nn.functional as F\n",
    "from torch.autograd import Variable\n",
    "from torch import nn\n",
    "from torch.utils.data import Dataset, DataLoader\n",
    "torch.manual_seed(0)\n",
    "\n",
    "# Workspace imports\n",
    "from evaluate import evaluate_model\n",
    "from Dataset import MovieLensDataset\n",
    "from utils import train_one_epoch, test, plot_statistics\n",
    "\n",
    "# Python imports\n",
    "import argparse\n",
    "from time import time\n",
    "import numpy as np\n",
    "import pickle"
   ]
  },
  {
   "cell_type": "code",
   "execution_count": 24,
   "metadata": {},
   "outputs": [],
   "source": [
    "class MLP(nn.Module):\n",
    "\n",
    "    def __init__(self, n_users, n_items, layers=[16, 8], dropout=False):\n",
    "        \"\"\"\n",
    "        Simple Feedforward network with Embeddings for users and items\n",
    "        \"\"\"\n",
    "        super().__init__()\n",
    "        assert (layers[0] % 2 == 0), \"layers[0] must be an even number\"\n",
    "        self.__alias__ = \"MLP {}\".format(layers)\n",
    "        self.__dropout__ = dropout\n",
    "\n",
    "        # user and item embedding layers\n",
    "        embedding_dim = int(layers[0]/2)\n",
    "        self.user_embedding = torch.nn.Embedding(n_users, embedding_dim)\n",
    "        self.item_embedding = torch.nn.Embedding(n_items, embedding_dim)\n",
    "\n",
    "        # list of weight matrices\n",
    "        self.fc_layers = torch.nn.ModuleList()\n",
    "        # hidden dense layers\n",
    "        for _, (in_size, out_size) in enumerate(zip(layers[:-1], layers[1:])):\n",
    "            self.fc_layers.append(torch.nn.Linear(in_size, out_size))\n",
    "        # final prediction layer\n",
    "        self.output_layer = torch.nn.Linear(layers[-1], 1)\n",
    "\n",
    "    def forward(self, feed_dict):\n",
    "        users = feed_dict['user_id']\n",
    "        items = feed_dict['item_id']\n",
    "        user_embedding = self.user_embedding(users)\n",
    "        item_embedding = self.item_embedding(items)\n",
    "        # concatenate user and item embeddings to form input\n",
    "        x = torch.cat([user_embedding, item_embedding], 1)\n",
    "        for idx, _ in enumerate(range(len(self.fc_layers))):\n",
    "            x = self.fc_layers[idx](x)\n",
    "            x = F.relu(x)\n",
    "            x = F.dropout(x,  p=self.__dropout__, training=self.training)\n",
    "        logit = self.output_layer(x)\n",
    "        rating = torch.sigmoid(logit)\n",
    "        return rating\n",
    "\n",
    "    def predict(self, feed_dict):\n",
    "        # return the score, inputs and outputs are numpy arrays\n",
    "        for key in feed_dict:\n",
    "            if type(feed_dict[key]) != type(None):\n",
    "                feed_dict[key] = torch.from_numpy(\n",
    "                    feed_dict[key]).to(dtype=torch.long, device=device)\n",
    "        output_scores = self.forward(feed_dict)\n",
    "        return output_scores.cpu().detach().numpy()\n",
    "\n",
    "    def get_alias(self):\n",
    "        return self.__alias__\n"
   ]
  },
  {
   "cell_type": "code",
   "execution_count": 27,
   "metadata": {},
   "outputs": [],
   "source": [
    "path = 'Data/'\n",
    "dataset = 'spotify'\n",
    "layers = eval('[16,32,16,8]')\n",
    "weight_decay = 1e-5\n",
    "num_negatives_train = 4\n",
    "num_negatives_test = 100\n",
    "dropout = 0\n",
    "learner = 'adam'\n",
    "learning_rate = 1e-2\n",
    "batch_size = 64\n",
    "epochs = 20\n",
    "verbose = 1"
   ]
  },
  {
   "cell_type": "code",
   "execution_count": 29,
   "metadata": {},
   "outputs": [
    {
     "name": "stdout",
     "output_type": "stream",
     "text": [
      "#user=869, #item=30049, #train=64318, #test=869\n"
     ]
    }
   ],
   "source": [
    "topK = 10\n",
    "full_dataset = MovieLensDataset(\n",
    "        path + dataset, num_negatives_train=num_negatives_train, num_negatives_test=num_negatives_test)\n",
    "train, testRatings, testNegatives = full_dataset.trainMatrix, full_dataset.testRatings, full_dataset.testNegatives\n",
    "num_users, num_items = train.shape\n",
    "print(\"#user=%d, #item=%d, #train=%d, #test=%d\"\n",
    "      % (num_users, num_items, train.nnz, len(testRatings)))\n",
    "\n",
    "training_data_generator = DataLoader(\n",
    "    full_dataset, batch_size=batch_size, shuffle=True, num_workers=0)"
   ]
  },
  {
   "cell_type": "code",
   "execution_count": 30,
   "metadata": {},
   "outputs": [
    {
     "name": "stdout",
     "output_type": "stream",
     "text": [
      "MLP(\n",
      "  (user_embedding): Embedding(869, 8)\n",
      "  (item_embedding): Embedding(30049, 8)\n",
      "  (fc_layers): ModuleList(\n",
      "    (0): Linear(in_features=16, out_features=32, bias=True)\n",
      "    (1): Linear(in_features=32, out_features=16, bias=True)\n",
      "    (2): Linear(in_features=16, out_features=8, bias=True)\n",
      "  )\n",
      "  (output_layer): Linear(in_features=8, out_features=1, bias=True)\n",
      ")\n"
     ]
    }
   ],
   "source": [
    "model = MLP(num_users, num_items, layers=layers, dropout=dropout)\n",
    "# Transfer the model to GPU, if one is available\n",
    "model.to(device)\n",
    "if verbose:\n",
    "    print(model)"
   ]
  },
  {
   "cell_type": "code",
   "execution_count": 33,
   "metadata": {},
   "outputs": [
    {
     "name": "stdout",
     "output_type": "stream",
     "text": [
      "Eval: HR = 0.0990, NDCG = 0.0488 [2.8 s]\n",
      "Epoch = 0\n",
      "Epoch completed 21.6 s\n",
      "Train Loss: 0.49146691901766837\n",
      "Eval: HR = 0.3257, NDCG = 0.1843 [1.3 s]\n",
      "hr for epochs:  [0.09896432681242807, 0.3256616800920598]\n",
      "ndcg for epochs:  [0.048837112879771584, 0.18433498631730463]\n",
      "loss for epochs:  [1, 0.49146691901766837]\n",
      "End. Best Iteration 1:  HR = 0.3257, NDCG = 0.1843. \n",
      "Epoch = 1\n",
      "Epoch completed 15.0 s\n",
      "Train Loss: 0.4479121490912651\n",
      "Eval: HR = 0.3705, NDCG = 0.2154 [0.8 s]\n",
      "hr for epochs:  [0.09896432681242807, 0.3256616800920598, 0.3705408515535098]\n",
      "ndcg for epochs:  [0.048837112879771584, 0.18433498631730463, 0.2153859737086956]\n",
      "loss for epochs:  [1, 0.49146691901766837, 0.4479121490912651]\n",
      "End. Best Iteration 2:  HR = 0.3705, NDCG = 0.2154. \n",
      "Epoch = 2\n",
      "Epoch completed 13.0 s\n",
      "Train Loss: 0.42569876524642924\n",
      "Eval: HR = 0.3740, NDCG = 0.2166 [0.8 s]\n",
      "hr for epochs:  [0.09896432681242807, 0.3256616800920598, 0.3705408515535098, 0.3739930955120829]\n",
      "ndcg for epochs:  [0.048837112879771584, 0.18433498631730463, 0.2153859737086956, 0.2165519526168355]\n",
      "loss for epochs:  [1, 0.49146691901766837, 0.4479121490912651, 0.42569876524642924]\n",
      "End. Best Iteration 3:  HR = 0.3740, NDCG = 0.2166. \n",
      "Epoch = 3\n",
      "Epoch completed 13.0 s\n",
      "Train Loss: 0.40763223937791376\n",
      "Eval: HR = 0.3751, NDCG = 0.2155 [0.7 s]\n",
      "hr for epochs:  [0.09896432681242807, 0.3256616800920598, 0.3705408515535098, 0.3739930955120829, 0.3751438434982739]\n",
      "ndcg for epochs:  [0.048837112879771584, 0.18433498631730463, 0.2153859737086956, 0.2165519526168355, 0.21551624030118421]\n",
      "loss for epochs:  [1, 0.49146691901766837, 0.4479121490912651, 0.42569876524642924, 0.40763223937791376]\n",
      "End. Best Iteration 4:  HR = 0.3751, NDCG = 0.2155. \n",
      "Epoch = 4\n",
      "Epoch completed 13.2 s\n",
      "Train Loss: 0.38356360240065634\n",
      "Eval: HR = 0.3728, NDCG = 0.2159 [0.7 s]\n",
      "hr for epochs:  [0.09896432681242807, 0.3256616800920598, 0.3705408515535098, 0.3739930955120829, 0.3751438434982739, 0.37284234752589185]\n",
      "ndcg for epochs:  [0.048837112879771584, 0.18433498631730463, 0.2153859737086956, 0.2165519526168355, 0.21551624030118421, 0.2159094328637498]\n",
      "loss for epochs:  [1, 0.49146691901766837, 0.4479121490912651, 0.42569876524642924, 0.40763223937791376, 0.38356360240065634]\n",
      "End. Best Iteration 4:  HR = 0.3751, NDCG = 0.2155. \n",
      "Epoch = 5\n",
      "Epoch completed 13.5 s\n",
      "Train Loss: 0.3570349966234236\n",
      "Eval: HR = 0.3533, NDCG = 0.2030 [0.8 s]\n",
      "hr for epochs:  [0.09896432681242807, 0.3256616800920598, 0.3705408515535098, 0.3739930955120829, 0.3751438434982739, 0.37284234752589185, 0.3532796317606444]\n",
      "ndcg for epochs:  [0.048837112879771584, 0.18433498631730463, 0.2153859737086956, 0.2165519526168355, 0.21551624030118421, 0.2159094328637498, 0.20299016712509138]\n",
      "loss for epochs:  [1, 0.49146691901766837, 0.4479121490912651, 0.42569876524642924, 0.40763223937791376, 0.38356360240065634, 0.3570349966234236]\n",
      "End. Best Iteration 4:  HR = 0.3751, NDCG = 0.2155. \n",
      "Epoch = 6\n",
      "Epoch completed 13.6 s\n",
      "Train Loss: 0.33222584743701405\n",
      "Eval: HR = 0.3441, NDCG = 0.1958 [0.8 s]\n",
      "hr for epochs:  [0.09896432681242807, 0.3256616800920598, 0.3705408515535098, 0.3739930955120829, 0.3751438434982739, 0.37284234752589185, 0.3532796317606444, 0.3440736478711162]\n",
      "ndcg for epochs:  [0.048837112879771584, 0.18433498631730463, 0.2153859737086956, 0.2165519526168355, 0.21551624030118421, 0.2159094328637498, 0.20299016712509138, 0.19576036272037645]\n",
      "loss for epochs:  [1, 0.49146691901766837, 0.4479121490912651, 0.42569876524642924, 0.40763223937791376, 0.38356360240065634, 0.3570349966234236, 0.33222584743701405]\n",
      "End. Best Iteration 4:  HR = 0.3751, NDCG = 0.2155. \n",
      "Epoch = 7\n",
      "Epoch completed 13.1 s\n",
      "Train Loss: 0.3088477443581197\n",
      "Eval: HR = 0.3360, NDCG = 0.1899 [0.8 s]\n",
      "hr for epochs:  [0.09896432681242807, 0.3256616800920598, 0.3705408515535098, 0.3739930955120829, 0.3751438434982739, 0.37284234752589185, 0.3532796317606444, 0.3440736478711162, 0.33601841196777904]\n",
      "ndcg for epochs:  [0.048837112879771584, 0.18433498631730463, 0.2153859737086956, 0.2165519526168355, 0.21551624030118421, 0.2159094328637498, 0.20299016712509138, 0.19576036272037645, 0.18989794586559716]\n",
      "loss for epochs:  [1, 0.49146691901766837, 0.4479121490912651, 0.42569876524642924, 0.40763223937791376, 0.38356360240065634, 0.3570349966234236, 0.33222584743701405, 0.3088477443581197]\n",
      "End. Best Iteration 4:  HR = 0.3751, NDCG = 0.2155. \n",
      "Epoch = 8\n",
      "Epoch completed 13.4 s\n",
      "Train Loss: 0.288153278350237\n",
      "Eval: HR = 0.3142, NDCG = 0.1801 [0.7 s]\n",
      "hr for epochs:  [0.09896432681242807, 0.3256616800920598, 0.3705408515535098, 0.3739930955120829, 0.3751438434982739, 0.37284234752589185, 0.3532796317606444, 0.3440736478711162, 0.33601841196777904, 0.3141542002301496]\n",
      "ndcg for epochs:  [0.048837112879771584, 0.18433498631730463, 0.2153859737086956, 0.2165519526168355, 0.21551624030118421, 0.2159094328637498, 0.20299016712509138, 0.19576036272037645, 0.18989794586559716, 0.1800699008720991]\n",
      "loss for epochs:  [1, 0.49146691901766837, 0.4479121490912651, 0.42569876524642924, 0.40763223937791376, 0.38356360240065634, 0.3570349966234236, 0.33222584743701405, 0.3088477443581197, 0.288153278350237]\n",
      "End. Best Iteration 4:  HR = 0.3751, NDCG = 0.2155. \n",
      "Epoch = 9\n",
      "Epoch completed 13.3 s\n",
      "Train Loss: 0.26871610593884737\n",
      "Eval: HR = 0.3268, NDCG = 0.1846 [0.8 s]\n",
      "hr for epochs:  [0.09896432681242807, 0.3256616800920598, 0.3705408515535098, 0.3739930955120829, 0.3751438434982739, 0.37284234752589185, 0.3532796317606444, 0.3440736478711162, 0.33601841196777904, 0.3141542002301496, 0.32681242807825084]\n",
      "ndcg for epochs:  [0.048837112879771584, 0.18433498631730463, 0.2153859737086956, 0.2165519526168355, 0.21551624030118421, 0.2159094328637498, 0.20299016712509138, 0.19576036272037645, 0.18989794586559716, 0.1800699008720991, 0.18456230979818192]\n",
      "loss for epochs:  [1, 0.49146691901766837, 0.4479121490912651, 0.42569876524642924, 0.40763223937791376, 0.38356360240065634, 0.3570349966234236, 0.33222584743701405, 0.3088477443581197, 0.288153278350237, 0.26871610593884737]\n",
      "End. Best Iteration 4:  HR = 0.3751, NDCG = 0.2155. \n",
      "Epoch = 10\n",
      "Epoch completed 13.8 s\n",
      "Train Loss: 0.25275865641844214\n",
      "Eval: HR = 0.3119, NDCG = 0.1741 [0.8 s]\n",
      "hr for epochs:  [0.09896432681242807, 0.3256616800920598, 0.3705408515535098, 0.3739930955120829, 0.3751438434982739, 0.37284234752589185, 0.3532796317606444, 0.3440736478711162, 0.33601841196777904, 0.3141542002301496, 0.32681242807825084, 0.31185270425776757]\n",
      "ndcg for epochs:  [0.048837112879771584, 0.18433498631730463, 0.2153859737086956, 0.2165519526168355, 0.21551624030118421, 0.2159094328637498, 0.20299016712509138, 0.19576036272037645, 0.18989794586559716, 0.1800699008720991, 0.18456230979818192, 0.17406469549441608]\n",
      "loss for epochs:  [1, 0.49146691901766837, 0.4479121490912651, 0.42569876524642924, 0.40763223937791376, 0.38356360240065634, 0.3570349966234236, 0.33222584743701405, 0.3088477443581197, 0.288153278350237, 0.26871610593884737, 0.25275865641844214]\n",
      "End. Best Iteration 4:  HR = 0.3751, NDCG = 0.2155. \n",
      "Epoch = 11\n",
      "Epoch completed 13.5 s\n",
      "Train Loss: 0.23709426084412863\n",
      "Eval: HR = 0.2946, NDCG = 0.1601 [0.8 s]\n",
      "hr for epochs:  [0.09896432681242807, 0.3256616800920598, 0.3705408515535098, 0.3739930955120829, 0.3751438434982739, 0.37284234752589185, 0.3532796317606444, 0.3440736478711162, 0.33601841196777904, 0.3141542002301496, 0.32681242807825084, 0.31185270425776757, 0.2945914844649022]\n",
      "ndcg for epochs:  [0.048837112879771584, 0.18433498631730463, 0.2153859737086956, 0.2165519526168355, 0.21551624030118421, 0.2159094328637498, 0.20299016712509138, 0.19576036272037645, 0.18989794586559716, 0.1800699008720991, 0.18456230979818192, 0.17406469549441608, 0.1600820439714877]\n",
      "loss for epochs:  [1, 0.49146691901766837, 0.4479121490912651, 0.42569876524642924, 0.40763223937791376, 0.38356360240065634, 0.3570349966234236, 0.33222584743701405, 0.3088477443581197, 0.288153278350237, 0.26871610593884737, 0.25275865641844214, 0.23709426084412863]\n",
      "End. Best Iteration 4:  HR = 0.3751, NDCG = 0.2155. \n",
      "Epoch = 12\n",
      "Epoch completed 13.3 s\n",
      "Train Loss: 0.22363431674479253\n",
      "Eval: HR = 0.3061, NDCG = 0.1715 [0.8 s]\n",
      "hr for epochs:  [0.09896432681242807, 0.3256616800920598, 0.3705408515535098, 0.3739930955120829, 0.3751438434982739, 0.37284234752589185, 0.3532796317606444, 0.3440736478711162, 0.33601841196777904, 0.3141542002301496, 0.32681242807825084, 0.31185270425776757, 0.2945914844649022, 0.30609896432681244]\n",
      "ndcg for epochs:  [0.048837112879771584, 0.18433498631730463, 0.2153859737086956, 0.2165519526168355, 0.21551624030118421, 0.2159094328637498, 0.20299016712509138, 0.19576036272037645, 0.18989794586559716, 0.1800699008720991, 0.18456230979818192, 0.17406469549441608, 0.1600820439714877, 0.1714565179526761]\n",
      "loss for epochs:  [1, 0.49146691901766837, 0.4479121490912651, 0.42569876524642924, 0.40763223937791376, 0.38356360240065634, 0.3570349966234236, 0.33222584743701405, 0.3088477443581197, 0.288153278350237, 0.26871610593884737, 0.25275865641844214, 0.23709426084412863, 0.22363431674479253]\n",
      "End. Best Iteration 4:  HR = 0.3751, NDCG = 0.2155. \n",
      "Epoch = 13\n"
     ]
    },
    {
     "name": "stdout",
     "output_type": "stream",
     "text": [
      "Epoch completed 13.4 s\n",
      "Train Loss: 0.21245620807011922\n",
      "Eval: HR = 0.3142, NDCG = 0.1661 [0.7 s]\n",
      "hr for epochs:  [0.09896432681242807, 0.3256616800920598, 0.3705408515535098, 0.3739930955120829, 0.3751438434982739, 0.37284234752589185, 0.3532796317606444, 0.3440736478711162, 0.33601841196777904, 0.3141542002301496, 0.32681242807825084, 0.31185270425776757, 0.2945914844649022, 0.30609896432681244, 0.3141542002301496]\n",
      "ndcg for epochs:  [0.048837112879771584, 0.18433498631730463, 0.2153859737086956, 0.2165519526168355, 0.21551624030118421, 0.2159094328637498, 0.20299016712509138, 0.19576036272037645, 0.18989794586559716, 0.1800699008720991, 0.18456230979818192, 0.17406469549441608, 0.1600820439714877, 0.1714565179526761, 0.1661117497292812]\n",
      "loss for epochs:  [1, 0.49146691901766837, 0.4479121490912651, 0.42569876524642924, 0.40763223937791376, 0.38356360240065634, 0.3570349966234236, 0.33222584743701405, 0.3088477443581197, 0.288153278350237, 0.26871610593884737, 0.25275865641844214, 0.23709426084412863, 0.22363431674479253, 0.21245620807011922]\n",
      "End. Best Iteration 4:  HR = 0.3751, NDCG = 0.2155. \n",
      "Epoch = 14\n",
      "Epoch completed 13.3 s\n",
      "Train Loss: 0.20246574824722252\n",
      "Eval: HR = 0.2934, NDCG = 0.1613 [0.7 s]\n",
      "hr for epochs:  [0.09896432681242807, 0.3256616800920598, 0.3705408515535098, 0.3739930955120829, 0.3751438434982739, 0.37284234752589185, 0.3532796317606444, 0.3440736478711162, 0.33601841196777904, 0.3141542002301496, 0.32681242807825084, 0.31185270425776757, 0.2945914844649022, 0.30609896432681244, 0.3141542002301496, 0.29344073647871116]\n",
      "ndcg for epochs:  [0.048837112879771584, 0.18433498631730463, 0.2153859737086956, 0.2165519526168355, 0.21551624030118421, 0.2159094328637498, 0.20299016712509138, 0.19576036272037645, 0.18989794586559716, 0.1800699008720991, 0.18456230979818192, 0.17406469549441608, 0.1600820439714877, 0.1714565179526761, 0.1661117497292812, 0.16130956982762595]\n",
      "loss for epochs:  [1, 0.49146691901766837, 0.4479121490912651, 0.42569876524642924, 0.40763223937791376, 0.38356360240065634, 0.3570349966234236, 0.33222584743701405, 0.3088477443581197, 0.288153278350237, 0.26871610593884737, 0.25275865641844214, 0.23709426084412863, 0.22363431674479253, 0.21245620807011922, 0.20246574824722252]\n",
      "End. Best Iteration 4:  HR = 0.3751, NDCG = 0.2155. \n",
      "Epoch = 15\n",
      "Epoch completed 13.3 s\n",
      "Train Loss: 0.19375889733433724\n",
      "Eval: HR = 0.3003, NDCG = 0.1584 [0.7 s]\n",
      "hr for epochs:  [0.09896432681242807, 0.3256616800920598, 0.3705408515535098, 0.3739930955120829, 0.3751438434982739, 0.37284234752589185, 0.3532796317606444, 0.3440736478711162, 0.33601841196777904, 0.3141542002301496, 0.32681242807825084, 0.31185270425776757, 0.2945914844649022, 0.30609896432681244, 0.3141542002301496, 0.29344073647871116, 0.3003452243958573]\n",
      "ndcg for epochs:  [0.048837112879771584, 0.18433498631730463, 0.2153859737086956, 0.2165519526168355, 0.21551624030118421, 0.2159094328637498, 0.20299016712509138, 0.19576036272037645, 0.18989794586559716, 0.1800699008720991, 0.18456230979818192, 0.17406469549441608, 0.1600820439714877, 0.1714565179526761, 0.1661117497292812, 0.16130956982762595, 0.1584285206037915]\n",
      "loss for epochs:  [1, 0.49146691901766837, 0.4479121490912651, 0.42569876524642924, 0.40763223937791376, 0.38356360240065634, 0.3570349966234236, 0.33222584743701405, 0.3088477443581197, 0.288153278350237, 0.26871610593884737, 0.25275865641844214, 0.23709426084412863, 0.22363431674479253, 0.21245620807011922, 0.20246574824722252, 0.19375889733433724]\n",
      "End. Best Iteration 4:  HR = 0.3751, NDCG = 0.2155. \n",
      "Epoch = 16\n",
      "Epoch completed 13.3 s\n",
      "Train Loss: 0.18704926081706041\n",
      "Eval: HR = 0.2854, NDCG = 0.1557 [0.7 s]\n",
      "hr for epochs:  [0.09896432681242807, 0.3256616800920598, 0.3705408515535098, 0.3739930955120829, 0.3751438434982739, 0.37284234752589185, 0.3532796317606444, 0.3440736478711162, 0.33601841196777904, 0.3141542002301496, 0.32681242807825084, 0.31185270425776757, 0.2945914844649022, 0.30609896432681244, 0.3141542002301496, 0.29344073647871116, 0.3003452243958573, 0.285385500575374]\n",
      "ndcg for epochs:  [0.048837112879771584, 0.18433498631730463, 0.2153859737086956, 0.2165519526168355, 0.21551624030118421, 0.2159094328637498, 0.20299016712509138, 0.19576036272037645, 0.18989794586559716, 0.1800699008720991, 0.18456230979818192, 0.17406469549441608, 0.1600820439714877, 0.1714565179526761, 0.1661117497292812, 0.16130956982762595, 0.1584285206037915, 0.15570922441943164]\n",
      "loss for epochs:  [1, 0.49146691901766837, 0.4479121490912651, 0.42569876524642924, 0.40763223937791376, 0.38356360240065634, 0.3570349966234236, 0.33222584743701405, 0.3088477443581197, 0.288153278350237, 0.26871610593884737, 0.25275865641844214, 0.23709426084412863, 0.22363431674479253, 0.21245620807011922, 0.20246574824722252, 0.19375889733433724, 0.18704926081706041]\n",
      "End. Best Iteration 4:  HR = 0.3751, NDCG = 0.2155. \n",
      "Epoch = 17\n",
      "Epoch completed 13.3 s\n",
      "Train Loss: 0.18102751482815588\n",
      "Eval: HR = 0.2934, NDCG = 0.1588 [0.7 s]\n",
      "hr for epochs:  [0.09896432681242807, 0.3256616800920598, 0.3705408515535098, 0.3739930955120829, 0.3751438434982739, 0.37284234752589185, 0.3532796317606444, 0.3440736478711162, 0.33601841196777904, 0.3141542002301496, 0.32681242807825084, 0.31185270425776757, 0.2945914844649022, 0.30609896432681244, 0.3141542002301496, 0.29344073647871116, 0.3003452243958573, 0.285385500575374, 0.29344073647871116]\n",
      "ndcg for epochs:  [0.048837112879771584, 0.18433498631730463, 0.2153859737086956, 0.2165519526168355, 0.21551624030118421, 0.2159094328637498, 0.20299016712509138, 0.19576036272037645, 0.18989794586559716, 0.1800699008720991, 0.18456230979818192, 0.17406469549441608, 0.1600820439714877, 0.1714565179526761, 0.1661117497292812, 0.16130956982762595, 0.1584285206037915, 0.15570922441943164, 0.15875720981792454]\n",
      "loss for epochs:  [1, 0.49146691901766837, 0.4479121490912651, 0.42569876524642924, 0.40763223937791376, 0.38356360240065634, 0.3570349966234236, 0.33222584743701405, 0.3088477443581197, 0.288153278350237, 0.26871610593884737, 0.25275865641844214, 0.23709426084412863, 0.22363431674479253, 0.21245620807011922, 0.20246574824722252, 0.19375889733433724, 0.18704926081706041, 0.18102751482815588]\n",
      "End. Best Iteration 4:  HR = 0.3751, NDCG = 0.2155. \n",
      "Epoch = 18\n",
      "Epoch completed 13.3 s\n",
      "Train Loss: 0.1761103386910104\n",
      "Eval: HR = 0.3107, NDCG = 0.1649 [0.7 s]\n",
      "hr for epochs:  [0.09896432681242807, 0.3256616800920598, 0.3705408515535098, 0.3739930955120829, 0.3751438434982739, 0.37284234752589185, 0.3532796317606444, 0.3440736478711162, 0.33601841196777904, 0.3141542002301496, 0.32681242807825084, 0.31185270425776757, 0.2945914844649022, 0.30609896432681244, 0.3141542002301496, 0.29344073647871116, 0.3003452243958573, 0.285385500575374, 0.29344073647871116, 0.31070195627157654]\n",
      "ndcg for epochs:  [0.048837112879771584, 0.18433498631730463, 0.2153859737086956, 0.2165519526168355, 0.21551624030118421, 0.2159094328637498, 0.20299016712509138, 0.19576036272037645, 0.18989794586559716, 0.1800699008720991, 0.18456230979818192, 0.17406469549441608, 0.1600820439714877, 0.1714565179526761, 0.1661117497292812, 0.16130956982762595, 0.1584285206037915, 0.15570922441943164, 0.15875720981792454, 0.16487285764678952]\n",
      "loss for epochs:  [1, 0.49146691901766837, 0.4479121490912651, 0.42569876524642924, 0.40763223937791376, 0.38356360240065634, 0.3570349966234236, 0.33222584743701405, 0.3088477443581197, 0.288153278350237, 0.26871610593884737, 0.25275865641844214, 0.23709426084412863, 0.22363431674479253, 0.21245620807011922, 0.20246574824722252, 0.19375889733433724, 0.18704926081706041, 0.18102751482815588, 0.1761103386910104]\n",
      "End. Best Iteration 4:  HR = 0.3751, NDCG = 0.2155. \n",
      "Epoch = 19\n",
      "Epoch completed 13.4 s\n",
      "Train Loss: 0.17131660104242724\n",
      "Eval: HR = 0.3119, NDCG = 0.1572 [0.7 s]\n",
      "hr for epochs:  [0.09896432681242807, 0.3256616800920598, 0.3705408515535098, 0.3739930955120829, 0.3751438434982739, 0.37284234752589185, 0.3532796317606444, 0.3440736478711162, 0.33601841196777904, 0.3141542002301496, 0.32681242807825084, 0.31185270425776757, 0.2945914844649022, 0.30609896432681244, 0.3141542002301496, 0.29344073647871116, 0.3003452243958573, 0.285385500575374, 0.29344073647871116, 0.31070195627157654, 0.31185270425776757]\n",
      "ndcg for epochs:  [0.048837112879771584, 0.18433498631730463, 0.2153859737086956, 0.2165519526168355, 0.21551624030118421, 0.2159094328637498, 0.20299016712509138, 0.19576036272037645, 0.18989794586559716, 0.1800699008720991, 0.18456230979818192, 0.17406469549441608, 0.1600820439714877, 0.1714565179526761, 0.1661117497292812, 0.16130956982762595, 0.1584285206037915, 0.15570922441943164, 0.15875720981792454, 0.16487285764678952, 0.15715346585783205]\n",
      "loss for epochs:  [1, 0.49146691901766837, 0.4479121490912651, 0.42569876524642924, 0.40763223937791376, 0.38356360240065634, 0.3570349966234236, 0.33222584743701405, 0.3088477443581197, 0.288153278350237, 0.26871610593884737, 0.25275865641844214, 0.23709426084412863, 0.22363431674479253, 0.21245620807011922, 0.20246574824722252, 0.19375889733433724, 0.18704926081706041, 0.18102751482815588, 0.1761103386910104, 0.17131660104242724]\n",
      "End. Best Iteration 4:  HR = 0.3751, NDCG = 0.2155. \n"
     ]
    }
   ],
   "source": [
    "loss_fn = torch.nn.BCELoss()\n",
    "# Use Adam optimizer\n",
    "optimizer = torch.optim.Adam(model.parameters(), weight_decay=weight_decay)\n",
    "\n",
    "# Record performance\n",
    "hr_list = []\n",
    "ndcg_list = []\n",
    "BCE_loss_list = []\n",
    "\n",
    "# Check Init performance\n",
    "hr, ndcg = test(model, full_dataset, topK)\n",
    "hr_list.append(hr)\n",
    "ndcg_list.append(ndcg)\n",
    "BCE_loss_list.append(1)\n",
    "\n",
    "for epoch in range(epochs):\n",
    "    epoch_loss = train_one_epoch( model, training_data_generator, loss_fn, optimizer, epoch, device)\n",
    "\n",
    "    if epoch % verbose == 0:\n",
    "        hr, ndcg = test(model, full_dataset, topK)\n",
    "        hr_list.append(hr)\n",
    "        ndcg_list.append(ndcg)\n",
    "        BCE_loss_list.append(epoch_loss)\n",
    "        # if hr > best_hr:\n",
    "        #     best_hr, best_ndcg, best_iter = hr, ndcg, epoch\n",
    "        #     if args.out > 0:\n",
    "        #         model.save(model_out_file, overwrite=True)\n",
    "    print(\"hr for epochs: \", hr_list)\n",
    "    print(\"ndcg for epochs: \", ndcg_list)\n",
    "    print(\"loss for epochs: \", BCE_loss_list)\n",
    "    # plot_statistics(hr_list, ndcg_list, BCE_loss_list,model.get_alias(), \"./figs\")\n",
    "    # with open(\"metrics\", 'wb') as fp:\n",
    "    #     pickle.dump(hr_list, fp)\n",
    "    #     pickle.dump(ndcg_list, fp)\n",
    "\n",
    "    best_iter = np.argmax(np.array(hr_list))\n",
    "    best_hr = hr_list[best_iter]\n",
    "    best_ndcg = ndcg_list[best_iter]\n",
    "    print(\"End. Best Iteration %d:  HR = %.4f, NDCG = %.4f. \" %\n",
    "          (best_iter, best_hr, best_ndcg))\n",
    "    # if args.out > 0:\n",
    "    #     print(\"The best MLP model is saved to %s\" %(model_out_file))"
   ]
  },
  {
   "cell_type": "markdown",
   "metadata": {},
   "source": [
    "## Training using fastai v2"
   ]
  },
  {
   "cell_type": "code",
   "execution_count": 7,
   "metadata": {},
   "outputs": [],
   "source": [
    "from fastai.collab import *"
   ]
  },
  {
   "cell_type": "code",
   "execution_count": 8,
   "metadata": {},
   "outputs": [
    {
     "data": {
      "text/html": [
       "<table border=\"1\" class=\"dataframe\">\n",
       "  <thead>\n",
       "    <tr style=\"text-align: right;\">\n",
       "      <th></th>\n",
       "      <th>userId</th>\n",
       "      <th>title</th>\n",
       "      <th>rating</th>\n",
       "    </tr>\n",
       "  </thead>\n",
       "  <tbody>\n",
       "    <tr>\n",
       "      <th>0</th>\n",
       "      <td>542</td>\n",
       "      <td>This Year's Love</td>\n",
       "      <td>1</td>\n",
       "    </tr>\n",
       "    <tr>\n",
       "      <th>1</th>\n",
       "      <td>830</td>\n",
       "      <td>Don't Blame Yourself</td>\n",
       "      <td>1</td>\n",
       "    </tr>\n",
       "    <tr>\n",
       "      <th>2</th>\n",
       "      <td>529</td>\n",
       "      <td>Two Princes</td>\n",
       "      <td>1</td>\n",
       "    </tr>\n",
       "    <tr>\n",
       "      <th>3</th>\n",
       "      <td>229</td>\n",
       "      <td>For Free</td>\n",
       "      <td>1</td>\n",
       "    </tr>\n",
       "    <tr>\n",
       "      <th>4</th>\n",
       "      <td>294</td>\n",
       "      <td>Amnesia</td>\n",
       "      <td>1</td>\n",
       "    </tr>\n",
       "    <tr>\n",
       "      <th>5</th>\n",
       "      <td>752</td>\n",
       "      <td>Casual Sex</td>\n",
       "      <td>1</td>\n",
       "    </tr>\n",
       "    <tr>\n",
       "      <th>6</th>\n",
       "      <td>275</td>\n",
       "      <td>White Iverson</td>\n",
       "      <td>5</td>\n",
       "    </tr>\n",
       "    <tr>\n",
       "      <th>7</th>\n",
       "      <td>702</td>\n",
       "      <td>Nothing Compares 2 U</td>\n",
       "      <td>1</td>\n",
       "    </tr>\n",
       "    <tr>\n",
       "      <th>8</th>\n",
       "      <td>163</td>\n",
       "      <td>Some Sunsick Day</td>\n",
       "      <td>1</td>\n",
       "    </tr>\n",
       "    <tr>\n",
       "      <th>9</th>\n",
       "      <td>95</td>\n",
       "      <td>Intervention</td>\n",
       "      <td>1</td>\n",
       "    </tr>\n",
       "  </tbody>\n",
       "</table>"
      ],
      "text/plain": [
       "<IPython.core.display.HTML object>"
      ]
     },
     "metadata": {},
     "output_type": "display_data"
    }
   ],
   "source": [
    "dls = CollabDataLoaders.from_df(df, bs=64, item_name='title')\n",
    "dls.show_batch()"
   ]
  },
  {
   "cell_type": "code",
   "execution_count": 13,
   "metadata": {},
   "outputs": [],
   "source": [
    "from fastai.losses import BCEWithLogitsLossFlat\n",
    "learn = collab_learner(dls, y_range=[0,5.5], n_factors=150)"
   ]
  },
  {
   "cell_type": "code",
   "execution_count": 14,
   "metadata": {},
   "outputs": [
    {
     "data": {
      "text/html": [],
      "text/plain": [
       "<IPython.core.display.HTML object>"
      ]
     },
     "metadata": {},
     "output_type": "display_data"
    },
    {
     "data": {
      "text/plain": [
       "SuggestedLRs(lr_min=5.754399462603033e-05, lr_steep=1.3182567499825382e-06)"
      ]
     },
     "execution_count": 14,
     "metadata": {},
     "output_type": "execute_result"
    },
    {
     "data": {
      "image/png": "[encoded data removed]",
      "text/plain": [
       "<Figure size 432x288 with 1 Axes>"
      ]
     },
     "metadata": {
      "needs_background": "light"
     },
     "output_type": "display_data"
    }
   ],
   "source": [
    "learn.lr_find()"
   ]
  },
  {
   "cell_type": "code",
   "execution_count": 15,
   "metadata": {},
   "outputs": [
    {
     "data": {
      "text/html": [
       "<table border=\"1\" class=\"dataframe\">\n",
       "  <thead>\n",
       "    <tr style=\"text-align: left;\">\n",
       "      <th>epoch</th>\n",
       "      <th>train_loss</th>\n",
       "      <th>valid_loss</th>\n",
       "      <th>time</th>\n",
       "    </tr>\n",
       "  </thead>\n",
       "  <tbody>\n",
       "    <tr>\n",
       "      <td>0</td>\n",
       "      <td>4.046320</td>\n",
       "      <td>4.067472</td>\n",
       "      <td>00:17</td>\n",
       "    </tr>\n",
       "    <tr>\n",
       "      <td>1</td>\n",
       "      <td>3.865667</td>\n",
       "      <td>3.946623</td>\n",
       "      <td>00:16</td>\n",
       "    </tr>\n",
       "    <tr>\n",
       "      <td>2</td>\n",
       "      <td>2.820847</td>\n",
       "      <td>3.664942</td>\n",
       "      <td>00:17</td>\n",
       "    </tr>\n",
       "    <tr>\n",
       "      <td>3</td>\n",
       "      <td>1.323477</td>\n",
       "      <td>3.572490</td>\n",
       "      <td>00:17</td>\n",
       "    </tr>\n",
       "    <tr>\n",
       "      <td>4</td>\n",
       "      <td>0.497292</td>\n",
       "      <td>3.577641</td>\n",
       "      <td>00:16</td>\n",
       "    </tr>\n",
       "    <tr>\n",
       "      <td>5</td>\n",
       "      <td>0.235508</td>\n",
       "      <td>3.587332</td>\n",
       "      <td>00:16</td>\n",
       "    </tr>\n",
       "    <tr>\n",
       "      <td>6</td>\n",
       "      <td>0.129035</td>\n",
       "      <td>3.594265</td>\n",
       "      <td>00:17</td>\n",
       "    </tr>\n",
       "    <tr>\n",
       "      <td>7</td>\n",
       "      <td>0.116496</td>\n",
       "      <td>3.598224</td>\n",
       "      <td>00:16</td>\n",
       "    </tr>\n",
       "    <tr>\n",
       "      <td>8</td>\n",
       "      <td>0.100399</td>\n",
       "      <td>3.600183</td>\n",
       "      <td>00:16</td>\n",
       "    </tr>\n",
       "    <tr>\n",
       "      <td>9</td>\n",
       "      <td>0.084648</td>\n",
       "      <td>00:03</td>\n",
       "    </tr>\n",
       "  </tbody>\n",
       "</table>"
      ],
      "text/plain": [
       "<IPython.core.display.HTML object>"
      ]
     },
     "metadata": {},
     "output_type": "display_data"
    },
    {
     "ename": "KeyboardInterrupt",
     "evalue": "",
     "output_type": "error",
     "traceback": [
      "\u001b[1;31m---------------------------------------------------------------------------\u001b[0m",
      "\u001b[1;31mKeyboardInterrupt\u001b[0m                         Traceback (most recent call last)",
      "\u001b[1;32m<ipython-input-15-2abca3925330>\u001b[0m in \u001b[0;36m<module>\u001b[1;34m\u001b[0m\n\u001b[1;32m----> 1\u001b[1;33m \u001b[0mlearn\u001b[0m\u001b[1;33m.\u001b[0m\u001b[0mfit_one_cycle\u001b[0m\u001b[1;33m(\u001b[0m\u001b[1;36m10\u001b[0m\u001b[1;33m,\u001b[0m\u001b[1;36m1e-3\u001b[0m\u001b[1;33m)\u001b[0m\u001b[1;33m\u001b[0m\u001b[1;33m\u001b[0m\u001b[0m\n\u001b[0m",
      "\u001b[1;32m~\\anaconda3\\envs\\pytorch-gpu\\lib\\site-packages\\fastai\\callback\\schedule.py\u001b[0m in \u001b[0;36mfit_one_cycle\u001b[1;34m(self, n_epoch, lr_max, div, div_final, pct_start, wd, moms, cbs, reset_opt)\u001b[0m\n\u001b[0;32m    110\u001b[0m     scheds = {'lr': combined_cos(pct_start, lr_max/div, lr_max, lr_max/div_final),\n\u001b[0;32m    111\u001b[0m               'mom': combined_cos(pct_start, *(self.moms if moms is None else moms))}\n\u001b[1;32m--> 112\u001b[1;33m     \u001b[0mself\u001b[0m\u001b[1;33m.\u001b[0m\u001b[0mfit\u001b[0m\u001b[1;33m(\u001b[0m\u001b[0mn_epoch\u001b[0m\u001b[1;33m,\u001b[0m \u001b[0mcbs\u001b[0m\u001b[1;33m=\u001b[0m\u001b[0mParamScheduler\u001b[0m\u001b[1;33m(\u001b[0m\u001b[0mscheds\u001b[0m\u001b[1;33m)\u001b[0m\u001b[1;33m+\u001b[0m\u001b[0mL\u001b[0m\u001b[1;33m(\u001b[0m\u001b[0mcbs\u001b[0m\u001b[1;33m)\u001b[0m\u001b[1;33m,\u001b[0m \u001b[0mreset_opt\u001b[0m\u001b[1;33m=\u001b[0m\u001b[0mreset_opt\u001b[0m\u001b[1;33m,\u001b[0m \u001b[0mwd\u001b[0m\u001b[1;33m=\u001b[0m\u001b[0mwd\u001b[0m\u001b[1;33m)\u001b[0m\u001b[1;33m\u001b[0m\u001b[1;33m\u001b[0m\u001b[0m\n\u001b[0m\u001b[0;32m    113\u001b[0m \u001b[1;33m\u001b[0m\u001b[0m\n\u001b[0;32m    114\u001b[0m \u001b[1;31m# Cell\u001b[0m\u001b[1;33m\u001b[0m\u001b[1;33m\u001b[0m\u001b[1;33m\u001b[0m\u001b[0m\n",
      "\u001b[1;32m~\\anaconda3\\envs\\pytorch-gpu\\lib\\site-packages\\fastai\\learner.py\u001b[0m in \u001b[0;36mfit\u001b[1;34m(self, n_epoch, lr, wd, cbs, reset_opt)\u001b[0m\n\u001b[0;32m    203\u001b[0m             \u001b[0mself\u001b[0m\u001b[1;33m.\u001b[0m\u001b[0mopt\u001b[0m\u001b[1;33m.\u001b[0m\u001b[0mset_hypers\u001b[0m\u001b[1;33m(\u001b[0m\u001b[0mlr\u001b[0m\u001b[1;33m=\u001b[0m\u001b[0mself\u001b[0m\u001b[1;33m.\u001b[0m\u001b[0mlr\u001b[0m \u001b[1;32mif\u001b[0m \u001b[0mlr\u001b[0m \u001b[1;32mis\u001b[0m \u001b[1;32mNone\u001b[0m \u001b[1;32melse\u001b[0m \u001b[0mlr\u001b[0m\u001b[1;33m)\u001b[0m\u001b[1;33m\u001b[0m\u001b[1;33m\u001b[0m\u001b[0m\n\u001b[0;32m    204\u001b[0m             \u001b[0mself\u001b[0m\u001b[1;33m.\u001b[0m\u001b[0mn_epoch\u001b[0m \u001b[1;33m=\u001b[0m \u001b[0mn_epoch\u001b[0m\u001b[1;33m\u001b[0m\u001b[1;33m\u001b[0m\u001b[0m\n\u001b[1;32m--> 205\u001b[1;33m             \u001b[0mself\u001b[0m\u001b[1;33m.\u001b[0m\u001b[0m_with_events\u001b[0m\u001b[1;33m(\u001b[0m\u001b[0mself\u001b[0m\u001b[1;33m.\u001b[0m\u001b[0m_do_fit\u001b[0m\u001b[1;33m,\u001b[0m \u001b[1;34m'fit'\u001b[0m\u001b[1;33m,\u001b[0m \u001b[0mCancelFitException\u001b[0m\u001b[1;33m,\u001b[0m \u001b[0mself\u001b[0m\u001b[1;33m.\u001b[0m\u001b[0m_end_cleanup\u001b[0m\u001b[1;33m)\u001b[0m\u001b[1;33m\u001b[0m\u001b[1;33m\u001b[0m\u001b[0m\n\u001b[0m\u001b[0;32m    206\u001b[0m \u001b[1;33m\u001b[0m\u001b[0m\n\u001b[0;32m    207\u001b[0m     \u001b[1;32mdef\u001b[0m \u001b[0m_end_cleanup\u001b[0m\u001b[1;33m(\u001b[0m\u001b[0mself\u001b[0m\u001b[1;33m)\u001b[0m\u001b[1;33m:\u001b[0m \u001b[0mself\u001b[0m\u001b[1;33m.\u001b[0m\u001b[0mdl\u001b[0m\u001b[1;33m,\u001b[0m\u001b[0mself\u001b[0m\u001b[1;33m.\u001b[0m\u001b[0mxb\u001b[0m\u001b[1;33m,\u001b[0m\u001b[0mself\u001b[0m\u001b[1;33m.\u001b[0m\u001b[0myb\u001b[0m\u001b[1;33m,\u001b[0m\u001b[0mself\u001b[0m\u001b[1;33m.\u001b[0m\u001b[0mpred\u001b[0m\u001b[1;33m,\u001b[0m\u001b[0mself\u001b[0m\u001b[1;33m.\u001b[0m\u001b[0mloss\u001b[0m \u001b[1;33m=\u001b[0m \u001b[1;32mNone\u001b[0m\u001b[1;33m,\u001b[0m\u001b[1;33m(\u001b[0m\u001b[1;32mNone\u001b[0m\u001b[1;33m,\u001b[0m\u001b[1;33m)\u001b[0m\u001b[1;33m,\u001b[0m\u001b[1;33m(\u001b[0m\u001b[1;32mNone\u001b[0m\u001b[1;33m,\u001b[0m\u001b[1;33m)\u001b[0m\u001b[1;33m,\u001b[0m\u001b[1;32mNone\u001b[0m\u001b[1;33m,\u001b[0m\u001b[1;32mNone\u001b[0m\u001b[1;33m\u001b[0m\u001b[1;33m\u001b[0m\u001b[0m\n",
      "\u001b[1;32m~\\anaconda3\\envs\\pytorch-gpu\\lib\\site-packages\\fastai\\learner.py\u001b[0m in \u001b[0;36m_with_events\u001b[1;34m(self, f, event_type, ex, final)\u001b[0m\n\u001b[0;32m    152\u001b[0m \u001b[1;33m\u001b[0m\u001b[0m\n\u001b[0;32m    153\u001b[0m     \u001b[1;32mdef\u001b[0m \u001b[0m_with_events\u001b[0m\u001b[1;33m(\u001b[0m\u001b[0mself\u001b[0m\u001b[1;33m,\u001b[0m \u001b[0mf\u001b[0m\u001b[1;33m,\u001b[0m \u001b[0mevent_type\u001b[0m\u001b[1;33m,\u001b[0m \u001b[0mex\u001b[0m\u001b[1;33m,\u001b[0m \u001b[0mfinal\u001b[0m\u001b[1;33m=\u001b[0m\u001b[0mnoop\u001b[0m\u001b[1;33m)\u001b[0m\u001b[1;33m:\u001b[0m\u001b[1;33m\u001b[0m\u001b[1;33m\u001b[0m\u001b[0m\n\u001b[1;32m--> 154\u001b[1;33m         \u001b[1;32mtry\u001b[0m\u001b[1;33m:\u001b[0m       \u001b[0mself\u001b[0m\u001b[1;33m(\u001b[0m\u001b[1;34mf'before_{event_type}'\u001b[0m\u001b[1;33m)\u001b[0m       \u001b[1;33m;\u001b[0m\u001b[0mf\u001b[0m\u001b[1;33m(\u001b[0m\u001b[1;33m)\u001b[0m\u001b[1;33m\u001b[0m\u001b[1;33m\u001b[0m\u001b[0m\n\u001b[0m\u001b[0;32m    155\u001b[0m         \u001b[1;32mexcept\u001b[0m \u001b[0mex\u001b[0m\u001b[1;33m:\u001b[0m \u001b[0mself\u001b[0m\u001b[1;33m(\u001b[0m\u001b[1;34mf'after_cancel_{event_type}'\u001b[0m\u001b[1;33m)\u001b[0m\u001b[1;33m\u001b[0m\u001b[1;33m\u001b[0m\u001b[0m\n\u001b[0;32m    156\u001b[0m         \u001b[1;32mfinally\u001b[0m\u001b[1;33m:\u001b[0m   \u001b[0mself\u001b[0m\u001b[1;33m(\u001b[0m\u001b[1;34mf'after_{event_type}'\u001b[0m\u001b[1;33m)\u001b[0m        \u001b[1;33m;\u001b[0m\u001b[0mfinal\u001b[0m\u001b[1;33m(\u001b[0m\u001b[1;33m)\u001b[0m\u001b[1;33m\u001b[0m\u001b[1;33m\u001b[0m\u001b[0m\n",
      "\u001b[1;32m~\\anaconda3\\envs\\pytorch-gpu\\lib\\site-packages\\fastai\\learner.py\u001b[0m in \u001b[0;36m_do_fit\u001b[1;34m(self)\u001b[0m\n\u001b[0;32m    194\u001b[0m         \u001b[1;32mfor\u001b[0m \u001b[0mepoch\u001b[0m \u001b[1;32min\u001b[0m \u001b[0mrange\u001b[0m\u001b[1;33m(\u001b[0m\u001b[0mself\u001b[0m\u001b[1;33m.\u001b[0m\u001b[0mn_epoch\u001b[0m\u001b[1;33m)\u001b[0m\u001b[1;33m:\u001b[0m\u001b[1;33m\u001b[0m\u001b[1;33m\u001b[0m\u001b[0m\n\u001b[0;32m    195\u001b[0m             \u001b[0mself\u001b[0m\u001b[1;33m.\u001b[0m\u001b[0mepoch\u001b[0m\u001b[1;33m=\u001b[0m\u001b[0mepoch\u001b[0m\u001b[1;33m\u001b[0m\u001b[1;33m\u001b[0m\u001b[0m\n\u001b[1;32m--> 196\u001b[1;33m             \u001b[0mself\u001b[0m\u001b[1;33m.\u001b[0m\u001b[0m_with_events\u001b[0m\u001b[1;33m(\u001b[0m\u001b[0mself\u001b[0m\u001b[1;33m.\u001b[0m\u001b[0m_do_epoch\u001b[0m\u001b[1;33m,\u001b[0m \u001b[1;34m'epoch'\u001b[0m\u001b[1;33m,\u001b[0m \u001b[0mCancelEpochException\u001b[0m\u001b[1;33m)\u001b[0m\u001b[1;33m\u001b[0m\u001b[1;33m\u001b[0m\u001b[0m\n\u001b[0m\u001b[0;32m    197\u001b[0m \u001b[1;33m\u001b[0m\u001b[0m\n\u001b[0;32m    198\u001b[0m     \u001b[1;32mdef\u001b[0m \u001b[0mfit\u001b[0m\u001b[1;33m(\u001b[0m\u001b[0mself\u001b[0m\u001b[1;33m,\u001b[0m \u001b[0mn_epoch\u001b[0m\u001b[1;33m,\u001b[0m \u001b[0mlr\u001b[0m\u001b[1;33m=\u001b[0m\u001b[1;32mNone\u001b[0m\u001b[1;33m,\u001b[0m \u001b[0mwd\u001b[0m\u001b[1;33m=\u001b[0m\u001b[1;32mNone\u001b[0m\u001b[1;33m,\u001b[0m \u001b[0mcbs\u001b[0m\u001b[1;33m=\u001b[0m\u001b[1;32mNone\u001b[0m\u001b[1;33m,\u001b[0m \u001b[0mreset_opt\u001b[0m\u001b[1;33m=\u001b[0m\u001b[1;32mFalse\u001b[0m\u001b[1;33m)\u001b[0m\u001b[1;33m:\u001b[0m\u001b[1;33m\u001b[0m\u001b[1;33m\u001b[0m\u001b[0m\n",
      "\u001b[1;32m~\\anaconda3\\envs\\pytorch-gpu\\lib\\site-packages\\fastai\\learner.py\u001b[0m in \u001b[0;36m_with_events\u001b[1;34m(self, f, event_type, ex, final)\u001b[0m\n\u001b[0;32m    152\u001b[0m \u001b[1;33m\u001b[0m\u001b[0m\n\u001b[0;32m    153\u001b[0m     \u001b[1;32mdef\u001b[0m \u001b[0m_with_events\u001b[0m\u001b[1;33m(\u001b[0m\u001b[0mself\u001b[0m\u001b[1;33m,\u001b[0m \u001b[0mf\u001b[0m\u001b[1;33m,\u001b[0m \u001b[0mevent_type\u001b[0m\u001b[1;33m,\u001b[0m \u001b[0mex\u001b[0m\u001b[1;33m,\u001b[0m \u001b[0mfinal\u001b[0m\u001b[1;33m=\u001b[0m\u001b[0mnoop\u001b[0m\u001b[1;33m)\u001b[0m\u001b[1;33m:\u001b[0m\u001b[1;33m\u001b[0m\u001b[1;33m\u001b[0m\u001b[0m\n\u001b[1;32m--> 154\u001b[1;33m         \u001b[1;32mtry\u001b[0m\u001b[1;33m:\u001b[0m       \u001b[0mself\u001b[0m\u001b[1;33m(\u001b[0m\u001b[1;34mf'before_{event_type}'\u001b[0m\u001b[1;33m)\u001b[0m       \u001b[1;33m;\u001b[0m\u001b[0mf\u001b[0m\u001b[1;33m(\u001b[0m\u001b[1;33m)\u001b[0m\u001b[1;33m\u001b[0m\u001b[1;33m\u001b[0m\u001b[0m\n\u001b[0m\u001b[0;32m    155\u001b[0m         \u001b[1;32mexcept\u001b[0m \u001b[0mex\u001b[0m\u001b[1;33m:\u001b[0m \u001b[0mself\u001b[0m\u001b[1;33m(\u001b[0m\u001b[1;34mf'after_cancel_{event_type}'\u001b[0m\u001b[1;33m)\u001b[0m\u001b[1;33m\u001b[0m\u001b[1;33m\u001b[0m\u001b[0m\n\u001b[0;32m    156\u001b[0m         \u001b[1;32mfinally\u001b[0m\u001b[1;33m:\u001b[0m   \u001b[0mself\u001b[0m\u001b[1;33m(\u001b[0m\u001b[1;34mf'after_{event_type}'\u001b[0m\u001b[1;33m)\u001b[0m        \u001b[1;33m;\u001b[0m\u001b[0mfinal\u001b[0m\u001b[1;33m(\u001b[0m\u001b[1;33m)\u001b[0m\u001b[1;33m\u001b[0m\u001b[1;33m\u001b[0m\u001b[0m\n",
      "\u001b[1;32m~\\anaconda3\\envs\\pytorch-gpu\\lib\\site-packages\\fastai\\learner.py\u001b[0m in \u001b[0;36m_do_epoch\u001b[1;34m(self)\u001b[0m\n\u001b[0;32m    188\u001b[0m \u001b[1;33m\u001b[0m\u001b[0m\n\u001b[0;32m    189\u001b[0m     \u001b[1;32mdef\u001b[0m \u001b[0m_do_epoch\u001b[0m\u001b[1;33m(\u001b[0m\u001b[0mself\u001b[0m\u001b[1;33m)\u001b[0m\u001b[1;33m:\u001b[0m\u001b[1;33m\u001b[0m\u001b[1;33m\u001b[0m\u001b[0m\n\u001b[1;32m--> 190\u001b[1;33m         \u001b[0mself\u001b[0m\u001b[1;33m.\u001b[0m\u001b[0m_do_epoch_train\u001b[0m\u001b[1;33m(\u001b[0m\u001b[1;33m)\u001b[0m\u001b[1;33m\u001b[0m\u001b[1;33m\u001b[0m\u001b[0m\n\u001b[0m\u001b[0;32m    191\u001b[0m         \u001b[0mself\u001b[0m\u001b[1;33m.\u001b[0m\u001b[0m_do_epoch_validate\u001b[0m\u001b[1;33m(\u001b[0m\u001b[1;33m)\u001b[0m\u001b[1;33m\u001b[0m\u001b[1;33m\u001b[0m\u001b[0m\n\u001b[0;32m    192\u001b[0m \u001b[1;33m\u001b[0m\u001b[0m\n",
      "\u001b[1;32m~\\anaconda3\\envs\\pytorch-gpu\\lib\\site-packages\\fastai\\learner.py\u001b[0m in \u001b[0;36m_do_epoch_train\u001b[1;34m(self)\u001b[0m\n\u001b[0;32m    180\u001b[0m     \u001b[1;32mdef\u001b[0m \u001b[0m_do_epoch_train\u001b[0m\u001b[1;33m(\u001b[0m\u001b[0mself\u001b[0m\u001b[1;33m)\u001b[0m\u001b[1;33m:\u001b[0m\u001b[1;33m\u001b[0m\u001b[1;33m\u001b[0m\u001b[0m\n\u001b[0;32m    181\u001b[0m         \u001b[0mself\u001b[0m\u001b[1;33m.\u001b[0m\u001b[0mdl\u001b[0m \u001b[1;33m=\u001b[0m \u001b[0mself\u001b[0m\u001b[1;33m.\u001b[0m\u001b[0mdls\u001b[0m\u001b[1;33m.\u001b[0m\u001b[0mtrain\u001b[0m\u001b[1;33m\u001b[0m\u001b[1;33m\u001b[0m\u001b[0m\n\u001b[1;32m--> 182\u001b[1;33m         \u001b[0mself\u001b[0m\u001b[1;33m.\u001b[0m\u001b[0m_with_events\u001b[0m\u001b[1;33m(\u001b[0m\u001b[0mself\u001b[0m\u001b[1;33m.\u001b[0m\u001b[0mall_batches\u001b[0m\u001b[1;33m,\u001b[0m \u001b[1;34m'train'\u001b[0m\u001b[1;33m,\u001b[0m \u001b[0mCancelTrainException\u001b[0m\u001b[1;33m)\u001b[0m\u001b[1;33m\u001b[0m\u001b[1;33m\u001b[0m\u001b[0m\n\u001b[0m\u001b[0;32m    183\u001b[0m \u001b[1;33m\u001b[0m\u001b[0m\n\u001b[0;32m    184\u001b[0m     \u001b[1;32mdef\u001b[0m \u001b[0m_do_epoch_validate\u001b[0m\u001b[1;33m(\u001b[0m\u001b[0mself\u001b[0m\u001b[1;33m,\u001b[0m \u001b[0mds_idx\u001b[0m\u001b[1;33m=\u001b[0m\u001b[1;36m1\u001b[0m\u001b[1;33m,\u001b[0m \u001b[0mdl\u001b[0m\u001b[1;33m=\u001b[0m\u001b[1;32mNone\u001b[0m\u001b[1;33m)\u001b[0m\u001b[1;33m:\u001b[0m\u001b[1;33m\u001b[0m\u001b[1;33m\u001b[0m\u001b[0m\n",
      "\u001b[1;32m~\\anaconda3\\envs\\pytorch-gpu\\lib\\site-packages\\fastai\\learner.py\u001b[0m in \u001b[0;36m_with_events\u001b[1;34m(self, f, event_type, ex, final)\u001b[0m\n\u001b[0;32m    152\u001b[0m \u001b[1;33m\u001b[0m\u001b[0m\n\u001b[0;32m    153\u001b[0m     \u001b[1;32mdef\u001b[0m \u001b[0m_with_events\u001b[0m\u001b[1;33m(\u001b[0m\u001b[0mself\u001b[0m\u001b[1;33m,\u001b[0m \u001b[0mf\u001b[0m\u001b[1;33m,\u001b[0m \u001b[0mevent_type\u001b[0m\u001b[1;33m,\u001b[0m \u001b[0mex\u001b[0m\u001b[1;33m,\u001b[0m \u001b[0mfinal\u001b[0m\u001b[1;33m=\u001b[0m\u001b[0mnoop\u001b[0m\u001b[1;33m)\u001b[0m\u001b[1;33m:\u001b[0m\u001b[1;33m\u001b[0m\u001b[1;33m\u001b[0m\u001b[0m\n\u001b[1;32m--> 154\u001b[1;33m         \u001b[1;32mtry\u001b[0m\u001b[1;33m:\u001b[0m       \u001b[0mself\u001b[0m\u001b[1;33m(\u001b[0m\u001b[1;34mf'before_{event_type}'\u001b[0m\u001b[1;33m)\u001b[0m       \u001b[1;33m;\u001b[0m\u001b[0mf\u001b[0m\u001b[1;33m(\u001b[0m\u001b[1;33m)\u001b[0m\u001b[1;33m\u001b[0m\u001b[1;33m\u001b[0m\u001b[0m\n\u001b[0m\u001b[0;32m    155\u001b[0m         \u001b[1;32mexcept\u001b[0m \u001b[0mex\u001b[0m\u001b[1;33m:\u001b[0m \u001b[0mself\u001b[0m\u001b[1;33m(\u001b[0m\u001b[1;34mf'after_cancel_{event_type}'\u001b[0m\u001b[1;33m)\u001b[0m\u001b[1;33m\u001b[0m\u001b[1;33m\u001b[0m\u001b[0m\n\u001b[0;32m    156\u001b[0m         \u001b[1;32mfinally\u001b[0m\u001b[1;33m:\u001b[0m   \u001b[0mself\u001b[0m\u001b[1;33m(\u001b[0m\u001b[1;34mf'after_{event_type}'\u001b[0m\u001b[1;33m)\u001b[0m        \u001b[1;33m;\u001b[0m\u001b[0mfinal\u001b[0m\u001b[1;33m(\u001b[0m\u001b[1;33m)\u001b[0m\u001b[1;33m\u001b[0m\u001b[1;33m\u001b[0m\u001b[0m\n",
      "\u001b[1;32m~\\anaconda3\\envs\\pytorch-gpu\\lib\\site-packages\\fastai\\learner.py\u001b[0m in \u001b[0;36mall_batches\u001b[1;34m(self)\u001b[0m\n\u001b[0;32m    158\u001b[0m     \u001b[1;32mdef\u001b[0m \u001b[0mall_batches\u001b[0m\u001b[1;33m(\u001b[0m\u001b[0mself\u001b[0m\u001b[1;33m)\u001b[0m\u001b[1;33m:\u001b[0m\u001b[1;33m\u001b[0m\u001b[1;33m\u001b[0m\u001b[0m\n\u001b[0;32m    159\u001b[0m         \u001b[0mself\u001b[0m\u001b[1;33m.\u001b[0m\u001b[0mn_iter\u001b[0m \u001b[1;33m=\u001b[0m \u001b[0mlen\u001b[0m\u001b[1;33m(\u001b[0m\u001b[0mself\u001b[0m\u001b[1;33m.\u001b[0m\u001b[0mdl\u001b[0m\u001b[1;33m)\u001b[0m\u001b[1;33m\u001b[0m\u001b[1;33m\u001b[0m\u001b[0m\n\u001b[1;32m--> 160\u001b[1;33m         \u001b[1;32mfor\u001b[0m \u001b[0mo\u001b[0m \u001b[1;32min\u001b[0m \u001b[0menumerate\u001b[0m\u001b[1;33m(\u001b[0m\u001b[0mself\u001b[0m\u001b[1;33m.\u001b[0m\u001b[0mdl\u001b[0m\u001b[1;33m)\u001b[0m\u001b[1;33m:\u001b[0m \u001b[0mself\u001b[0m\u001b[1;33m.\u001b[0m\u001b[0mone_batch\u001b[0m\u001b[1;33m(\u001b[0m\u001b[1;33m*\u001b[0m\u001b[0mo\u001b[0m\u001b[1;33m)\u001b[0m\u001b[1;33m\u001b[0m\u001b[1;33m\u001b[0m\u001b[0m\n\u001b[0m\u001b[0;32m    161\u001b[0m \u001b[1;33m\u001b[0m\u001b[0m\n\u001b[0;32m    162\u001b[0m     \u001b[1;32mdef\u001b[0m \u001b[0m_do_one_batch\u001b[0m\u001b[1;33m(\u001b[0m\u001b[0mself\u001b[0m\u001b[1;33m)\u001b[0m\u001b[1;33m:\u001b[0m\u001b[1;33m\u001b[0m\u001b[1;33m\u001b[0m\u001b[0m\n",
      "\u001b[1;32m~\\anaconda3\\envs\\pytorch-gpu\\lib\\site-packages\\fastai\\learner.py\u001b[0m in \u001b[0;36mone_batch\u001b[1;34m(self, i, b)\u001b[0m\n\u001b[0;32m    176\u001b[0m         \u001b[0mself\u001b[0m\u001b[1;33m.\u001b[0m\u001b[0miter\u001b[0m \u001b[1;33m=\u001b[0m \u001b[0mi\u001b[0m\u001b[1;33m\u001b[0m\u001b[1;33m\u001b[0m\u001b[0m\n\u001b[0;32m    177\u001b[0m         \u001b[0mself\u001b[0m\u001b[1;33m.\u001b[0m\u001b[0m_split\u001b[0m\u001b[1;33m(\u001b[0m\u001b[0mb\u001b[0m\u001b[1;33m)\u001b[0m\u001b[1;33m\u001b[0m\u001b[1;33m\u001b[0m\u001b[0m\n\u001b[1;32m--> 178\u001b[1;33m         \u001b[0mself\u001b[0m\u001b[1;33m.\u001b[0m\u001b[0m_with_events\u001b[0m\u001b[1;33m(\u001b[0m\u001b[0mself\u001b[0m\u001b[1;33m.\u001b[0m\u001b[0m_do_one_batch\u001b[0m\u001b[1;33m,\u001b[0m \u001b[1;34m'batch'\u001b[0m\u001b[1;33m,\u001b[0m \u001b[0mCancelBatchException\u001b[0m\u001b[1;33m)\u001b[0m\u001b[1;33m\u001b[0m\u001b[1;33m\u001b[0m\u001b[0m\n\u001b[0m\u001b[0;32m    179\u001b[0m \u001b[1;33m\u001b[0m\u001b[0m\n\u001b[0;32m    180\u001b[0m     \u001b[1;32mdef\u001b[0m \u001b[0m_do_epoch_train\u001b[0m\u001b[1;33m(\u001b[0m\u001b[0mself\u001b[0m\u001b[1;33m)\u001b[0m\u001b[1;33m:\u001b[0m\u001b[1;33m\u001b[0m\u001b[1;33m\u001b[0m\u001b[0m\n",
      "\u001b[1;32m~\\anaconda3\\envs\\pytorch-gpu\\lib\\site-packages\\fastai\\learner.py\u001b[0m in \u001b[0;36m_with_events\u001b[1;34m(self, f, event_type, ex, final)\u001b[0m\n\u001b[0;32m    152\u001b[0m \u001b[1;33m\u001b[0m\u001b[0m\n\u001b[0;32m    153\u001b[0m     \u001b[1;32mdef\u001b[0m \u001b[0m_with_events\u001b[0m\u001b[1;33m(\u001b[0m\u001b[0mself\u001b[0m\u001b[1;33m,\u001b[0m \u001b[0mf\u001b[0m\u001b[1;33m,\u001b[0m \u001b[0mevent_type\u001b[0m\u001b[1;33m,\u001b[0m \u001b[0mex\u001b[0m\u001b[1;33m,\u001b[0m \u001b[0mfinal\u001b[0m\u001b[1;33m=\u001b[0m\u001b[0mnoop\u001b[0m\u001b[1;33m)\u001b[0m\u001b[1;33m:\u001b[0m\u001b[1;33m\u001b[0m\u001b[1;33m\u001b[0m\u001b[0m\n\u001b[1;32m--> 154\u001b[1;33m         \u001b[1;32mtry\u001b[0m\u001b[1;33m:\u001b[0m       \u001b[0mself\u001b[0m\u001b[1;33m(\u001b[0m\u001b[1;34mf'before_{event_type}'\u001b[0m\u001b[1;33m)\u001b[0m       \u001b[1;33m;\u001b[0m\u001b[0mf\u001b[0m\u001b[1;33m(\u001b[0m\u001b[1;33m)\u001b[0m\u001b[1;33m\u001b[0m\u001b[1;33m\u001b[0m\u001b[0m\n\u001b[0m\u001b[0;32m    155\u001b[0m         \u001b[1;32mexcept\u001b[0m \u001b[0mex\u001b[0m\u001b[1;33m:\u001b[0m \u001b[0mself\u001b[0m\u001b[1;33m(\u001b[0m\u001b[1;34mf'after_cancel_{event_type}'\u001b[0m\u001b[1;33m)\u001b[0m\u001b[1;33m\u001b[0m\u001b[1;33m\u001b[0m\u001b[0m\n\u001b[0;32m    156\u001b[0m         \u001b[1;32mfinally\u001b[0m\u001b[1;33m:\u001b[0m   \u001b[0mself\u001b[0m\u001b[1;33m(\u001b[0m\u001b[1;34mf'after_{event_type}'\u001b[0m\u001b[1;33m)\u001b[0m        \u001b[1;33m;\u001b[0m\u001b[0mfinal\u001b[0m\u001b[1;33m(\u001b[0m\u001b[1;33m)\u001b[0m\u001b[1;33m\u001b[0m\u001b[1;33m\u001b[0m\u001b[0m\n",
      "\u001b[1;32m~\\anaconda3\\envs\\pytorch-gpu\\lib\\site-packages\\fastai\\learner.py\u001b[0m in \u001b[0;36m_do_one_batch\u001b[1;34m(self)\u001b[0m\n\u001b[0;32m    171\u001b[0m         \u001b[0mself\u001b[0m\u001b[1;33m.\u001b[0m\u001b[0m_step\u001b[0m\u001b[1;33m(\u001b[0m\u001b[1;33m)\u001b[0m\u001b[1;33m\u001b[0m\u001b[1;33m\u001b[0m\u001b[0m\n\u001b[0;32m    172\u001b[0m         \u001b[0mself\u001b[0m\u001b[1;33m(\u001b[0m\u001b[1;34m'after_step'\u001b[0m\u001b[1;33m)\u001b[0m\u001b[1;33m\u001b[0m\u001b[1;33m\u001b[0m\u001b[0m\n\u001b[1;32m--> 173\u001b[1;33m         \u001b[0mself\u001b[0m\u001b[1;33m.\u001b[0m\u001b[0mopt\u001b[0m\u001b[1;33m.\u001b[0m\u001b[0mzero_grad\u001b[0m\u001b[1;33m(\u001b[0m\u001b[1;33m)\u001b[0m\u001b[1;33m\u001b[0m\u001b[1;33m\u001b[0m\u001b[0m\n\u001b[0m\u001b[0;32m    174\u001b[0m \u001b[1;33m\u001b[0m\u001b[0m\n\u001b[0;32m    175\u001b[0m     \u001b[1;32mdef\u001b[0m \u001b[0mone_batch\u001b[0m\u001b[1;33m(\u001b[0m\u001b[0mself\u001b[0m\u001b[1;33m,\u001b[0m \u001b[0mi\u001b[0m\u001b[1;33m,\u001b[0m \u001b[0mb\u001b[0m\u001b[1;33m)\u001b[0m\u001b[1;33m:\u001b[0m\u001b[1;33m\u001b[0m\u001b[1;33m\u001b[0m\u001b[0m\n",
      "\u001b[1;32m~\\anaconda3\\envs\\pytorch-gpu\\lib\\site-packages\\fastai\\optimizer.py\u001b[0m in \u001b[0;36mzero_grad\u001b[1;34m(self)\u001b[0m\n\u001b[0;32m     75\u001b[0m     \u001b[1;32mdef\u001b[0m \u001b[0mzero_grad\u001b[0m\u001b[1;33m(\u001b[0m\u001b[0mself\u001b[0m\u001b[1;33m)\u001b[0m\u001b[1;33m:\u001b[0m\u001b[1;33m\u001b[0m\u001b[1;33m\u001b[0m\u001b[0m\n\u001b[0;32m     76\u001b[0m         \u001b[1;32mfor\u001b[0m \u001b[0mp\u001b[0m\u001b[1;33m,\u001b[0m\u001b[1;33m*\u001b[0m\u001b[0m_\u001b[0m \u001b[1;32min\u001b[0m \u001b[0mself\u001b[0m\u001b[1;33m.\u001b[0m\u001b[0mall_params\u001b[0m\u001b[1;33m(\u001b[0m\u001b[0mwith_grad\u001b[0m\u001b[1;33m=\u001b[0m\u001b[1;32mTrue\u001b[0m\u001b[1;33m)\u001b[0m\u001b[1;33m:\u001b[0m\u001b[1;33m\u001b[0m\u001b[1;33m\u001b[0m\u001b[0m\n\u001b[1;32m---> 77\u001b[1;33m             \u001b[0mp\u001b[0m\u001b[1;33m.\u001b[0m\u001b[0mgrad\u001b[0m\u001b[1;33m.\u001b[0m\u001b[0mdetach_\u001b[0m\u001b[1;33m(\u001b[0m\u001b[1;33m)\u001b[0m\u001b[1;33m\u001b[0m\u001b[1;33m\u001b[0m\u001b[0m\n\u001b[0m\u001b[0;32m     78\u001b[0m             \u001b[0mp\u001b[0m\u001b[1;33m.\u001b[0m\u001b[0mgrad\u001b[0m\u001b[1;33m.\u001b[0m\u001b[0mzero_\u001b[0m\u001b[1;33m(\u001b[0m\u001b[1;33m)\u001b[0m\u001b[1;33m\u001b[0m\u001b[1;33m\u001b[0m\u001b[0m\n\u001b[0;32m     79\u001b[0m \u001b[1;33m\u001b[0m\u001b[0m\n",
      "\u001b[1;31mKeyboardInterrupt\u001b[0m: "
     ]
    }
   ],
   "source": [
    "learn.fit_one_cycle(10,1e-3)"
   ]
  },
  {
   "cell_type": "code",
   "execution_count": 162,
   "metadata": {},
   "outputs": [
    {
     "data": {
      "text/plain": [
       "Path('models/saved_model.pth')"
      ]
     },
     "execution_count": 162,
     "metadata": {},
     "output_type": "execute_result"
    }
   ],
   "source": [
    "learn.save('./saved_model')"
   ]
  },
  {
   "cell_type": "code",
   "execution_count": 16,
   "metadata": {},
   "outputs": [
    {
     "data": {
      "text/html": [],
      "text/plain": [
       "<IPython.core.display.HTML object>"
      ]
     },
     "metadata": {},
     "output_type": "display_data"
    },
    {
     "data": {
      "text/html": [
       "<table border=\"1\" class=\"dataframe\">\n",
       "  <thead>\n",
       "    <tr style=\"text-align: right;\">\n",
       "      <th></th>\n",
       "      <th>userId</th>\n",
       "      <th>title</th>\n",
       "      <th>rating</th>\n",
       "      <th>rating_pred</th>\n",
       "    </tr>\n",
       "  </thead>\n",
       "  <tbody>\n",
       "    <tr>\n",
       "      <th>0</th>\n",
       "      <td>529</td>\n",
       "      <td>18756</td>\n",
       "      <td>1</td>\n",
       "      <td>3.366180</td>\n",
       "    </tr>\n",
       "    <tr>\n",
       "      <th>1</th>\n",
       "      <td>755</td>\n",
       "      <td>6135</td>\n",
       "      <td>1</td>\n",
       "      <td>2.916562</td>\n",
       "    </tr>\n",
       "    <tr>\n",
       "      <th>2</th>\n",
       "      <td>65</td>\n",
       "      <td>1417</td>\n",
       "      <td>5</td>\n",
       "      <td>2.860280</td>\n",
       "    </tr>\n",
       "    <tr>\n",
       "      <th>3</th>\n",
       "      <td>404</td>\n",
       "      <td>22022</td>\n",
       "      <td>5</td>\n",
       "      <td>2.579245</td>\n",
       "    </tr>\n",
       "    <tr>\n",
       "      <th>4</th>\n",
       "      <td>360</td>\n",
       "      <td>15380</td>\n",
       "      <td>5</td>\n",
       "      <td>2.860852</td>\n",
       "    </tr>\n",
       "    <tr>\n",
       "      <th>5</th>\n",
       "      <td>431</td>\n",
       "      <td>13040</td>\n",
       "      <td>5</td>\n",
       "      <td>2.516624</td>\n",
       "    </tr>\n",
       "    <tr>\n",
       "      <th>6</th>\n",
       "      <td>38</td>\n",
       "      <td>2964</td>\n",
       "      <td>5</td>\n",
       "      <td>2.600452</td>\n",
       "    </tr>\n",
       "    <tr>\n",
       "      <th>7</th>\n",
       "      <td>466</td>\n",
       "      <td>11083</td>\n",
       "      <td>1</td>\n",
       "      <td>3.291556</td>\n",
       "    </tr>\n",
       "    <tr>\n",
       "      <th>8</th>\n",
       "      <td>452</td>\n",
       "      <td>1398</td>\n",
       "      <td>1</td>\n",
       "      <td>2.704370</td>\n",
       "    </tr>\n",
       "  </tbody>\n",
       "</table>"
      ],
      "text/plain": [
       "<IPython.core.display.HTML object>"
      ]
     },
     "metadata": {},
     "output_type": "display_data"
    }
   ],
   "source": [
    "learn.show_results()"
   ]
  },
  {
   "cell_type": "markdown",
   "metadata": {},
   "source": [
    "## Results"
   ]
  },
  {
   "cell_type": "code",
   "execution_count": 17,
   "metadata": {},
   "outputs": [
    {
     "data": {
      "text/plain": [
       "EmbeddingDotBias(\n",
       "  (u_weight): Embedding(870, 150)\n",
       "  (i_weight): Embedding(30811, 150)\n",
       "  (u_bias): Embedding(870, 1)\n",
       "  (i_bias): Embedding(30811, 1)\n",
       ")"
      ]
     },
     "execution_count": 17,
     "metadata": {},
     "output_type": "execute_result"
    }
   ],
   "source": [
    "learn.model"
   ]
  },
  {
   "cell_type": "code",
   "execution_count": 18,
   "metadata": {},
   "outputs": [
    {
     "data": {
      "text/plain": [
       "array(['Closer', 'Broccoli (feat. Lil Yachty)', 'One Dance', 'Roses',\n",
       "       'Ride', 'Congratulations', 'HUMBLE.', 'goosebumps',\n",
       "       \"Don't Let Me Down\", 'Home'], dtype=object)"
      ]
     },
     "execution_count": 18,
     "metadata": {},
     "output_type": "execute_result"
    }
   ],
   "source": [
    "g = df.groupby('title')['rating'].count()\n",
    "top_movies = g.sort_values(ascending=False).index.values[:1000]\n",
    "top_movies[:10]"
   ]
  },
  {
   "cell_type": "code",
   "execution_count": 19,
   "metadata": {},
   "outputs": [],
   "source": [
    "movie_w = learn.model.weight(top_movies, is_item=True)\n",
    "movie_pca = movie_w.pca(3)\n",
    "fac0,fac1,fac2 = movie_pca.t()\n",
    "movie_comp = [(f, i) for f,i in zip(fac0, top_movies)]\n",
    "movie_comp = [(f, i) for f,i in zip(fac1, top_movies)]"
   ]
  },
  {
   "cell_type": "code",
   "execution_count": 20,
   "metadata": {},
   "outputs": [
    {
     "data": {
      "image/png": "[encoded data removed]",
      "text/plain": [
       "<Figure size 1080x1080 with 1 Axes>"
      ]
     },
     "metadata": {
      "needs_background": "light"
     },
     "output_type": "display_data"
    }
   ],
   "source": [
    "import matplotlib.pyplot as plt\n",
    "idxs = np.random.choice(len(top_movies), 50, replace=False)\n",
    "idxs = list(range(50))\n",
    "X = fac0[idxs]\n",
    "Y = fac2[idxs]\n",
    "plt.figure(figsize=(15,15))\n",
    "plt.scatter(X, Y)\n",
    "for i, x, y in zip(top_movies[idxs], X, Y):\n",
    "    plt.text(x,y,i, color=np.random.rand(3)*0.7, fontsize=11)\n",
    "plt.show()"
   ]
  },
  {
   "cell_type": "code",
   "execution_count": null,
   "metadata": {},
   "outputs": [],
   "source": []
  }
 ],
 "metadata": {
  "kernelspec": {
   "display_name": "Python 3",
   "language": "python",
   "name": "python3"
  },
  "language_info": {
   "codemirror_mode": {
    "name": "ipython",
    "version": 3
   },
   "file_extension": ".py",
   "mimetype": "text/x-python",
   "name": "python",
   "nbconvert_exporter": "python",
   "pygments_lexer": "ipython3",
   "version": "3.8.5"
  }
 },
 "nbformat": 4,
 "nbformat_minor": 4
}
